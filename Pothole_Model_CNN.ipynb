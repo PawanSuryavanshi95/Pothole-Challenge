{
  "nbformat": 4,
  "nbformat_minor": 0,
  "metadata": {
    "colab": {
      "name": "Pothole Model CNN.ipynb",
      "provenance": []
    },
    "kernelspec": {
      "name": "python3",
      "display_name": "Python 3"
    },
    "language_info": {
      "name": "python"
    }
  },
  "cells": [
    {
      "cell_type": "code",
      "metadata": {
        "colab": {
          "base_uri": "https://localhost:8080/"
        },
        "id": "XrAVIxiO1D9w",
        "outputId": "01c43165-d47a-4c30-9146-81fb51e903e5"
      },
      "source": [
        "from google.colab import drive\n",
        "\n",
        "drive.mount('/content/drive', force_remount=True)"
      ],
      "execution_count": 1,
      "outputs": [
        {
          "output_type": "stream",
          "text": [
            "Mounted at /content/drive\n"
          ],
          "name": "stdout"
        }
      ]
    },
    {
      "cell_type": "code",
      "metadata": {
        "id": "XsW5sFhdkzRl"
      },
      "source": [
        "import pandas as pd\n",
        "import numpy as np\n",
        "import matplotlib.pyplot as plt\n",
        "import matplotlib.mlab as mlab\n",
        "\n",
        "import tensorflow as tf\n",
        "import keras\n",
        "\n",
        "from keras.layers.pooling import MaxPooling2D\n",
        "from keras.models import Sequential, Model\n",
        "from keras.callbacks import EarlyStopping, Callback\n",
        "from keras.layers import Dense, Dropout, Activation, Flatten, Lambda, ELU,GlobalAveragePooling2D\n",
        "from keras.layers.convolutional import Convolution2D, Cropping2D, Conv2D\n",
        "from keras.layers.pooling import MaxPooling2D\n",
        "from keras.optimizers import Adam\n",
        "from sklearn.utils import shuffle\n",
        "from keras.utils import np_utils\n",
        "\n",
        "import time, cv2, glob\n",
        "\n",
        "global inputShape,size"
      ],
      "execution_count": 2,
      "outputs": []
    },
    {
      "cell_type": "markdown",
      "metadata": {
        "id": "wyX4sd4rXBbl"
      },
      "source": [
        "Preprocessing"
      ]
    },
    {
      "cell_type": "code",
      "metadata": {
        "id": "3pvlpQLXXlaD"
      },
      "source": [
        "size = 100"
      ],
      "execution_count": 5,
      "outputs": []
    },
    {
      "cell_type": "code",
      "metadata": {
        "id": "Np6CTzbtlMmA"
      },
      "source": [
        "potholeTrainImages = glob.glob(\"/content/drive/MyDrive/Pothole/train/Pothole/*.jpg\")\n",
        "potholeTrainImages.extend(glob.glob(\"/content/drive/MyDrive/Pothole/train/Pothole/*.jpeg\"))\n",
        "potholeTrainImages.extend(glob.glob(\"/content/drive/MyDrive/Pothole/train/Pothole/*.png\"))\n",
        "train1 = [cv2.resize(cv2.imread(img,0),(size,size)) for img in potholeTrainImages]\n",
        "nonPotholeTrainImages = glob.glob(\"/content/drive/MyDrive/Pothole/train/Plain/*.jpg\")\n",
        "train2 = [cv2.resize(cv2.imread(img,0),(size,size)) for img in nonPotholeTrainImages]\n",
        "train1 = np.asarray(train1)\n",
        "train2 = np.asarray(train2)"
      ],
      "execution_count": 6,
      "outputs": []
    },
    {
      "cell_type": "code",
      "metadata": {
        "id": "7E_nMZHf1QJ4"
      },
      "source": [
        "nonPotholeTestImages = glob.glob(\"/content/drive/MyDrive/Pothole/test/Plain/*.jpg\")\n",
        "test2 = [cv2.resize(cv2.imread(img,0),(size,size)) for img in nonPotholeTestImages]\n",
        "test2 = np.asarray(test2)\n",
        "\n",
        "potholeTestImages = glob.glob(\"/content/drive/MyDrive/Pothole/test/Pothole/*.jpg\")\n",
        "test1 = [cv2.resize(cv2.imread(img,0),(size,size)) for img in potholeTestImages]\n",
        "test1 = np.asarray(test1)"
      ],
      "execution_count": 7,
      "outputs": []
    },
    {
      "cell_type": "code",
      "metadata": {
        "id": "KKcW0SnD1qDF"
      },
      "source": [
        "X_train = []\n",
        "X_train.extend(train1)\n",
        "X_train.extend(train2)\n",
        "X_test = []\n",
        "X_test.extend(test1)\n",
        "X_test.extend(test2)\n",
        "X_train = np.asarray(X_train)\n",
        "X_test = np.asarray(X_test)"
      ],
      "execution_count": 8,
      "outputs": []
    },
    {
      "cell_type": "code",
      "metadata": {
        "id": "84tv4xtS9rGO"
      },
      "source": [
        "y_train1 = np.ones([train1.shape[0]],dtype = int)\n",
        "y_train2 = np.zeros([train2.shape[0]],dtype = int)\n",
        "y_test1 = np.ones([test1.shape[0]],dtype = int)\n",
        "y_test2 = np.zeros([test2.shape[0]],dtype = int)\n",
        "y_train = []\n",
        "y_train.extend(y_train1)\n",
        "y_train.extend(y_train2)\n",
        "y_train = np.asarray(y_train)\n",
        "\n",
        "y_test = []\n",
        "y_test.extend(y_test1)\n",
        "y_test.extend(y_test2)\n",
        "y_test = np.asarray(y_test)"
      ],
      "execution_count": 9,
      "outputs": []
    },
    {
      "cell_type": "code",
      "metadata": {
        "id": "VvsG0ehO-e2T",
        "colab": {
          "base_uri": "https://localhost:8080/"
        },
        "outputId": "68ad88fc-754f-478d-8b90-f8ebd49e1799"
      },
      "source": [
        "print(\"train shape X\", X_train.shape)\n",
        "print(\"train shape y\", y_train.shape)"
      ],
      "execution_count": 10,
      "outputs": [
        {
          "output_type": "stream",
          "text": [
            "train shape X (696, 100, 100)\n",
            "train shape y (696,)\n"
          ],
          "name": "stdout"
        }
      ]
    },
    {
      "cell_type": "code",
      "metadata": {
        "id": "2loaPE7G_JlS"
      },
      "source": [
        "X_train,y_train = shuffle(X_train,y_train)\n",
        "X_test,y_test = shuffle(X_test,y_test)\n",
        "\n",
        "X_train = X_train.reshape(X_train.shape[0], size, size, 1)\n",
        "X_test = X_test.reshape(X_test.shape[0], size, size, 1)\n",
        "\n",
        "y_train = np_utils.to_categorical(y_train)\n",
        "y_test = np_utils.to_categorical(y_test)"
      ],
      "execution_count": 11,
      "outputs": []
    },
    {
      "cell_type": "code",
      "metadata": {
        "id": "8gQL8Tq--tpx"
      },
      "source": [
        "inputShape = (size, size, 1)"
      ],
      "execution_count": 12,
      "outputs": []
    },
    {
      "cell_type": "markdown",
      "metadata": {
        "id": "R8rVs2FoXGWz"
      },
      "source": [
        "Model"
      ]
    },
    {
      "cell_type": "code",
      "metadata": {
        "id": "isYGDWakkxZ8"
      },
      "source": [
        "model = Sequential()\n",
        "model.add(Conv2D(16, (8, 8), strides=(4, 4), padding='valid', input_shape=(size,size,1)))\n",
        "model.add(Activation('relu'))\n",
        "model.add(Conv2D(32, (5, 5), padding=\"same\"))\n",
        "model.add(Activation('relu'))\n",
        "model.add(GlobalAveragePooling2D())\n",
        "model.add(Dense(512))\n",
        "model.add(Dropout(.1))\n",
        "model.add(Activation('relu'))\n",
        "model.add(Dense(2))\n",
        "model.add(Activation('softmax'))"
      ],
      "execution_count": 13,
      "outputs": []
    },
    {
      "cell_type": "markdown",
      "metadata": {
        "id": "V9JVrJcKXI7P"
      },
      "source": [
        "Training"
      ]
    },
    {
      "cell_type": "code",
      "metadata": {
        "id": "L97dnwcx-2a_",
        "colab": {
          "base_uri": "https://localhost:8080/"
        },
        "outputId": "10cdfaed-e6c4-49c8-99e8-8ff97062e4cb"
      },
      "source": [
        "model.compile('adam', 'categorical_crossentropy', ['accuracy'])\n",
        "history = model.fit(X_train, y_train, epochs=150,validation_split=0.1)\n",
        "\n",
        "metrics = model.evaluate(X_test, y_test)\n",
        "for metric_i in range(len(model.metrics_names)):\n",
        "    metric_name = model.metrics_names[metric_i]\n",
        "    metric_value = metrics[metric_i]\n",
        "    print('{}: {}'.format(metric_name, metric_value))\n"
      ],
      "execution_count": 14,
      "outputs": [
        {
          "output_type": "stream",
          "text": [
            "Epoch 1/150\n",
            "20/20 [==============================] - 19s 105ms/step - loss: 0.9092 - accuracy: 0.5460 - val_loss: 0.6687 - val_accuracy: 0.6143\n",
            "Epoch 2/150\n",
            "20/20 [==============================] - 1s 70ms/step - loss: 0.6864 - accuracy: 0.5428 - val_loss: 0.6371 - val_accuracy: 0.6571\n",
            "Epoch 3/150\n",
            "20/20 [==============================] - 1s 71ms/step - loss: 0.6544 - accuracy: 0.6142 - val_loss: 0.6340 - val_accuracy: 0.6857\n",
            "Epoch 4/150\n",
            "20/20 [==============================] - 1s 70ms/step - loss: 0.6318 - accuracy: 0.6465 - val_loss: 0.6085 - val_accuracy: 0.6571\n",
            "Epoch 5/150\n",
            "20/20 [==============================] - 1s 70ms/step - loss: 0.6665 - accuracy: 0.5512 - val_loss: 0.7167 - val_accuracy: 0.6000\n",
            "Epoch 6/150\n",
            "20/20 [==============================] - 1s 69ms/step - loss: 0.6275 - accuracy: 0.6600 - val_loss: 0.6902 - val_accuracy: 0.5429\n",
            "Epoch 7/150\n",
            "20/20 [==============================] - 1s 70ms/step - loss: 0.5827 - accuracy: 0.7062 - val_loss: 0.5995 - val_accuracy: 0.6286\n",
            "Epoch 8/150\n",
            "20/20 [==============================] - 1s 70ms/step - loss: 0.6569 - accuracy: 0.5865 - val_loss: 0.6490 - val_accuracy: 0.6571\n",
            "Epoch 9/150\n",
            "20/20 [==============================] - 1s 69ms/step - loss: 0.6470 - accuracy: 0.6224 - val_loss: 0.6653 - val_accuracy: 0.6714\n",
            "Epoch 10/150\n",
            "20/20 [==============================] - 1s 70ms/step - loss: 0.5928 - accuracy: 0.6645 - val_loss: 0.6056 - val_accuracy: 0.6714\n",
            "Epoch 11/150\n",
            "20/20 [==============================] - 1s 70ms/step - loss: 0.5822 - accuracy: 0.6931 - val_loss: 0.7868 - val_accuracy: 0.4857\n",
            "Epoch 12/150\n",
            "20/20 [==============================] - 1s 68ms/step - loss: 0.5920 - accuracy: 0.7013 - val_loss: 0.7997 - val_accuracy: 0.5857\n",
            "Epoch 13/150\n",
            "20/20 [==============================] - 1s 70ms/step - loss: 0.5760 - accuracy: 0.6841 - val_loss: 0.6289 - val_accuracy: 0.6429\n",
            "Epoch 14/150\n",
            "20/20 [==============================] - 1s 70ms/step - loss: 0.4973 - accuracy: 0.7829 - val_loss: 0.5960 - val_accuracy: 0.7143\n",
            "Epoch 15/150\n",
            "20/20 [==============================] - 1s 70ms/step - loss: 0.4784 - accuracy: 0.7516 - val_loss: 0.6349 - val_accuracy: 0.7000\n",
            "Epoch 16/150\n",
            "20/20 [==============================] - 1s 70ms/step - loss: 0.4983 - accuracy: 0.7635 - val_loss: 0.6399 - val_accuracy: 0.6714\n",
            "Epoch 17/150\n",
            "20/20 [==============================] - 1s 70ms/step - loss: 0.4296 - accuracy: 0.7956 - val_loss: 0.5902 - val_accuracy: 0.7000\n",
            "Epoch 18/150\n",
            "20/20 [==============================] - 1s 70ms/step - loss: 0.4302 - accuracy: 0.8026 - val_loss: 0.4629 - val_accuracy: 0.8000\n",
            "Epoch 19/150\n",
            "20/20 [==============================] - 1s 71ms/step - loss: 0.4029 - accuracy: 0.8242 - val_loss: 0.4815 - val_accuracy: 0.7714\n",
            "Epoch 20/150\n",
            "20/20 [==============================] - 1s 70ms/step - loss: 0.4111 - accuracy: 0.7957 - val_loss: 0.5941 - val_accuracy: 0.7857\n",
            "Epoch 21/150\n",
            "20/20 [==============================] - 1s 70ms/step - loss: 0.3927 - accuracy: 0.8241 - val_loss: 0.4348 - val_accuracy: 0.8286\n",
            "Epoch 22/150\n",
            "20/20 [==============================] - 1s 70ms/step - loss: 0.4403 - accuracy: 0.7818 - val_loss: 0.4997 - val_accuracy: 0.7714\n",
            "Epoch 23/150\n",
            "20/20 [==============================] - 1s 70ms/step - loss: 0.3882 - accuracy: 0.8190 - val_loss: 0.4724 - val_accuracy: 0.8143\n",
            "Epoch 24/150\n",
            "20/20 [==============================] - 1s 71ms/step - loss: 0.3642 - accuracy: 0.8311 - val_loss: 0.8517 - val_accuracy: 0.5571\n",
            "Epoch 25/150\n",
            "20/20 [==============================] - 1s 71ms/step - loss: 0.4723 - accuracy: 0.7768 - val_loss: 0.4697 - val_accuracy: 0.8143\n",
            "Epoch 26/150\n",
            "20/20 [==============================] - 1s 70ms/step - loss: 0.3679 - accuracy: 0.8430 - val_loss: 0.4371 - val_accuracy: 0.8714\n",
            "Epoch 27/150\n",
            "20/20 [==============================] - 1s 70ms/step - loss: 0.3734 - accuracy: 0.8359 - val_loss: 0.4129 - val_accuracy: 0.8286\n",
            "Epoch 28/150\n",
            "20/20 [==============================] - 1s 70ms/step - loss: 0.4090 - accuracy: 0.7841 - val_loss: 0.4498 - val_accuracy: 0.8000\n",
            "Epoch 29/150\n",
            "20/20 [==============================] - 1s 71ms/step - loss: 0.3500 - accuracy: 0.8455 - val_loss: 0.4243 - val_accuracy: 0.8143\n",
            "Epoch 30/150\n",
            "20/20 [==============================] - 1s 70ms/step - loss: 0.3587 - accuracy: 0.8554 - val_loss: 0.4398 - val_accuracy: 0.7857\n",
            "Epoch 31/150\n",
            "20/20 [==============================] - 1s 71ms/step - loss: 0.3391 - accuracy: 0.8467 - val_loss: 0.4029 - val_accuracy: 0.8143\n",
            "Epoch 32/150\n",
            "20/20 [==============================] - 1s 72ms/step - loss: 0.3021 - accuracy: 0.8831 - val_loss: 0.4202 - val_accuracy: 0.8286\n",
            "Epoch 33/150\n",
            "20/20 [==============================] - 1s 70ms/step - loss: 0.2718 - accuracy: 0.9007 - val_loss: 0.4155 - val_accuracy: 0.8286\n",
            "Epoch 34/150\n",
            "20/20 [==============================] - 1s 70ms/step - loss: 0.3510 - accuracy: 0.8428 - val_loss: 0.3840 - val_accuracy: 0.8429\n",
            "Epoch 35/150\n",
            "20/20 [==============================] - 1s 70ms/step - loss: 0.3578 - accuracy: 0.8308 - val_loss: 0.3710 - val_accuracy: 0.8286\n",
            "Epoch 36/150\n",
            "20/20 [==============================] - 1s 71ms/step - loss: 0.3026 - accuracy: 0.8741 - val_loss: 0.3972 - val_accuracy: 0.8286\n",
            "Epoch 37/150\n",
            "20/20 [==============================] - 1s 70ms/step - loss: 0.3058 - accuracy: 0.8491 - val_loss: 0.4539 - val_accuracy: 0.8143\n",
            "Epoch 38/150\n",
            "20/20 [==============================] - 1s 72ms/step - loss: 0.3246 - accuracy: 0.8450 - val_loss: 0.4878 - val_accuracy: 0.7714\n",
            "Epoch 39/150\n",
            "20/20 [==============================] - 1s 70ms/step - loss: 0.3023 - accuracy: 0.8837 - val_loss: 0.3648 - val_accuracy: 0.8429\n",
            "Epoch 40/150\n",
            "20/20 [==============================] - 1s 71ms/step - loss: 0.2581 - accuracy: 0.9057 - val_loss: 0.3379 - val_accuracy: 0.8429\n",
            "Epoch 41/150\n",
            "20/20 [==============================] - 1s 71ms/step - loss: 0.2830 - accuracy: 0.8862 - val_loss: 0.8560 - val_accuracy: 0.7143\n",
            "Epoch 42/150\n",
            "20/20 [==============================] - 1s 71ms/step - loss: 0.4282 - accuracy: 0.8262 - val_loss: 0.3836 - val_accuracy: 0.8429\n",
            "Epoch 43/150\n",
            "20/20 [==============================] - 1s 71ms/step - loss: 0.2834 - accuracy: 0.8791 - val_loss: 0.5338 - val_accuracy: 0.8143\n",
            "Epoch 44/150\n",
            "20/20 [==============================] - 1s 70ms/step - loss: 0.3117 - accuracy: 0.8642 - val_loss: 0.4525 - val_accuracy: 0.7857\n",
            "Epoch 45/150\n",
            "20/20 [==============================] - 1s 71ms/step - loss: 0.2428 - accuracy: 0.8909 - val_loss: 0.4100 - val_accuracy: 0.8429\n",
            "Epoch 46/150\n",
            "20/20 [==============================] - 1s 70ms/step - loss: 0.2339 - accuracy: 0.9089 - val_loss: 0.5222 - val_accuracy: 0.8143\n",
            "Epoch 47/150\n",
            "20/20 [==============================] - 1s 71ms/step - loss: 0.2682 - accuracy: 0.8745 - val_loss: 0.3657 - val_accuracy: 0.8429\n",
            "Epoch 48/150\n",
            "20/20 [==============================] - 1s 71ms/step - loss: 0.2661 - accuracy: 0.8765 - val_loss: 0.4041 - val_accuracy: 0.8286\n",
            "Epoch 49/150\n",
            "20/20 [==============================] - 1s 71ms/step - loss: 0.2299 - accuracy: 0.9216 - val_loss: 0.3204 - val_accuracy: 0.8429\n",
            "Epoch 50/150\n",
            "20/20 [==============================] - 1s 72ms/step - loss: 0.2230 - accuracy: 0.9086 - val_loss: 0.3711 - val_accuracy: 0.8571\n",
            "Epoch 51/150\n",
            "20/20 [==============================] - 1s 71ms/step - loss: 0.1901 - accuracy: 0.9231 - val_loss: 0.3181 - val_accuracy: 0.8429\n",
            "Epoch 52/150\n",
            "20/20 [==============================] - 1s 71ms/step - loss: 0.1896 - accuracy: 0.9347 - val_loss: 0.4180 - val_accuracy: 0.8429\n",
            "Epoch 53/150\n",
            "20/20 [==============================] - 1s 71ms/step - loss: 0.1788 - accuracy: 0.9337 - val_loss: 0.3728 - val_accuracy: 0.8429\n",
            "Epoch 54/150\n",
            "20/20 [==============================] - 1s 70ms/step - loss: 0.2169 - accuracy: 0.9083 - val_loss: 0.4389 - val_accuracy: 0.8286\n",
            "Epoch 55/150\n",
            "20/20 [==============================] - 1s 70ms/step - loss: 0.1628 - accuracy: 0.9295 - val_loss: 0.3318 - val_accuracy: 0.8571\n",
            "Epoch 56/150\n",
            "20/20 [==============================] - 1s 70ms/step - loss: 0.1628 - accuracy: 0.9460 - val_loss: 0.3821 - val_accuracy: 0.8143\n",
            "Epoch 57/150\n",
            "20/20 [==============================] - 1s 71ms/step - loss: 0.1536 - accuracy: 0.9546 - val_loss: 0.4871 - val_accuracy: 0.8143\n",
            "Epoch 58/150\n",
            "20/20 [==============================] - 1s 71ms/step - loss: 0.1680 - accuracy: 0.9326 - val_loss: 0.4533 - val_accuracy: 0.8429\n",
            "Epoch 59/150\n",
            "20/20 [==============================] - 1s 71ms/step - loss: 0.1351 - accuracy: 0.9433 - val_loss: 0.4080 - val_accuracy: 0.8286\n",
            "Epoch 60/150\n",
            "20/20 [==============================] - 1s 71ms/step - loss: 0.1948 - accuracy: 0.9261 - val_loss: 0.7248 - val_accuracy: 0.7286\n",
            "Epoch 61/150\n",
            "20/20 [==============================] - 1s 71ms/step - loss: 0.1906 - accuracy: 0.9157 - val_loss: 0.3724 - val_accuracy: 0.8857\n",
            "Epoch 62/150\n",
            "20/20 [==============================] - 1s 71ms/step - loss: 0.1461 - accuracy: 0.9411 - val_loss: 0.5677 - val_accuracy: 0.8143\n",
            "Epoch 63/150\n",
            "20/20 [==============================] - 1s 72ms/step - loss: 0.1226 - accuracy: 0.9588 - val_loss: 0.5805 - val_accuracy: 0.7571\n",
            "Epoch 64/150\n",
            "20/20 [==============================] - 1s 71ms/step - loss: 0.1996 - accuracy: 0.9128 - val_loss: 0.3679 - val_accuracy: 0.8714\n",
            "Epoch 65/150\n",
            "20/20 [==============================] - 1s 71ms/step - loss: 0.1743 - accuracy: 0.9290 - val_loss: 0.4213 - val_accuracy: 0.8571\n",
            "Epoch 66/150\n",
            "20/20 [==============================] - 1s 70ms/step - loss: 0.1563 - accuracy: 0.9336 - val_loss: 0.3463 - val_accuracy: 0.8714\n",
            "Epoch 67/150\n",
            "20/20 [==============================] - 1s 70ms/step - loss: 0.1326 - accuracy: 0.9598 - val_loss: 0.3251 - val_accuracy: 0.9000\n",
            "Epoch 68/150\n",
            "20/20 [==============================] - 1s 72ms/step - loss: 0.1046 - accuracy: 0.9593 - val_loss: 0.4801 - val_accuracy: 0.8000\n",
            "Epoch 69/150\n",
            "20/20 [==============================] - 1s 70ms/step - loss: 0.1075 - accuracy: 0.9600 - val_loss: 0.4654 - val_accuracy: 0.8143\n",
            "Epoch 70/150\n",
            "20/20 [==============================] - 1s 71ms/step - loss: 0.1306 - accuracy: 0.9363 - val_loss: 0.4242 - val_accuracy: 0.8857\n",
            "Epoch 71/150\n",
            "20/20 [==============================] - 1s 71ms/step - loss: 0.1334 - accuracy: 0.9466 - val_loss: 0.8039 - val_accuracy: 0.7857\n",
            "Epoch 72/150\n",
            "20/20 [==============================] - 1s 71ms/step - loss: 0.1276 - accuracy: 0.9438 - val_loss: 0.4558 - val_accuracy: 0.8429\n",
            "Epoch 73/150\n",
            "20/20 [==============================] - 1s 71ms/step - loss: 0.0846 - accuracy: 0.9674 - val_loss: 0.4348 - val_accuracy: 0.9000\n",
            "Epoch 74/150\n",
            "20/20 [==============================] - 1s 71ms/step - loss: 0.0771 - accuracy: 0.9747 - val_loss: 0.4432 - val_accuracy: 0.8286\n",
            "Epoch 75/150\n",
            "20/20 [==============================] - 1s 71ms/step - loss: 0.0774 - accuracy: 0.9697 - val_loss: 0.4151 - val_accuracy: 0.8714\n",
            "Epoch 76/150\n",
            "20/20 [==============================] - 1s 72ms/step - loss: 0.0684 - accuracy: 0.9819 - val_loss: 0.6769 - val_accuracy: 0.7714\n",
            "Epoch 77/150\n",
            "20/20 [==============================] - 1s 72ms/step - loss: 0.1531 - accuracy: 0.9312 - val_loss: 0.8999 - val_accuracy: 0.7571\n",
            "Epoch 78/150\n",
            "20/20 [==============================] - 1s 71ms/step - loss: 0.1200 - accuracy: 0.9560 - val_loss: 0.4543 - val_accuracy: 0.8571\n",
            "Epoch 79/150\n",
            "20/20 [==============================] - 1s 72ms/step - loss: 0.1921 - accuracy: 0.9179 - val_loss: 0.6274 - val_accuracy: 0.8143\n",
            "Epoch 80/150\n",
            "20/20 [==============================] - 1s 73ms/step - loss: 0.1027 - accuracy: 0.9617 - val_loss: 0.4891 - val_accuracy: 0.8714\n",
            "Epoch 81/150\n",
            "20/20 [==============================] - 1s 72ms/step - loss: 0.0520 - accuracy: 0.9854 - val_loss: 0.4575 - val_accuracy: 0.8429\n",
            "Epoch 82/150\n",
            "20/20 [==============================] - 1s 70ms/step - loss: 0.0556 - accuracy: 0.9844 - val_loss: 0.4857 - val_accuracy: 0.8857\n",
            "Epoch 83/150\n",
            "20/20 [==============================] - 1s 72ms/step - loss: 0.0483 - accuracy: 0.9837 - val_loss: 0.4224 - val_accuracy: 0.9000\n",
            "Epoch 84/150\n",
            "20/20 [==============================] - 1s 71ms/step - loss: 0.0674 - accuracy: 0.9845 - val_loss: 0.5587 - val_accuracy: 0.8143\n",
            "Epoch 85/150\n",
            "20/20 [==============================] - 1s 71ms/step - loss: 0.0743 - accuracy: 0.9815 - val_loss: 0.5499 - val_accuracy: 0.8714\n",
            "Epoch 86/150\n",
            "20/20 [==============================] - 1s 72ms/step - loss: 0.1076 - accuracy: 0.9664 - val_loss: 0.6388 - val_accuracy: 0.8143\n",
            "Epoch 87/150\n",
            "20/20 [==============================] - 1s 71ms/step - loss: 0.0839 - accuracy: 0.9689 - val_loss: 0.4971 - val_accuracy: 0.8286\n",
            "Epoch 88/150\n",
            "20/20 [==============================] - 1s 71ms/step - loss: 0.0625 - accuracy: 0.9908 - val_loss: 0.4242 - val_accuracy: 0.9143\n",
            "Epoch 89/150\n",
            "20/20 [==============================] - 1s 72ms/step - loss: 0.0478 - accuracy: 0.9844 - val_loss: 0.5229 - val_accuracy: 0.8857\n",
            "Epoch 90/150\n",
            "20/20 [==============================] - 1s 72ms/step - loss: 0.0315 - accuracy: 0.9940 - val_loss: 0.6269 - val_accuracy: 0.8286\n",
            "Epoch 91/150\n",
            "20/20 [==============================] - 1s 72ms/step - loss: 0.0271 - accuracy: 0.9931 - val_loss: 0.6567 - val_accuracy: 0.7857\n",
            "Epoch 92/150\n",
            "20/20 [==============================] - 1s 71ms/step - loss: 0.0228 - accuracy: 0.9970 - val_loss: 0.5920 - val_accuracy: 0.8714\n",
            "Epoch 93/150\n",
            "20/20 [==============================] - 1s 70ms/step - loss: 0.0134 - accuracy: 0.9980 - val_loss: 0.6174 - val_accuracy: 0.8571\n",
            "Epoch 94/150\n",
            "20/20 [==============================] - 1s 72ms/step - loss: 0.0184 - accuracy: 0.9970 - val_loss: 0.5395 - val_accuracy: 0.8429\n",
            "Epoch 95/150\n",
            "20/20 [==============================] - 1s 71ms/step - loss: 0.0462 - accuracy: 0.9798 - val_loss: 0.5049 - val_accuracy: 0.8714\n",
            "Epoch 96/150\n",
            "20/20 [==============================] - 1s 71ms/step - loss: 0.0224 - accuracy: 0.9938 - val_loss: 0.5838 - val_accuracy: 0.8857\n",
            "Epoch 97/150\n",
            "20/20 [==============================] - 1s 71ms/step - loss: 0.0174 - accuracy: 0.9954 - val_loss: 1.0056 - val_accuracy: 0.7714\n",
            "Epoch 98/150\n",
            "20/20 [==============================] - 1s 70ms/step - loss: 0.0273 - accuracy: 0.9957 - val_loss: 0.6206 - val_accuracy: 0.9000\n",
            "Epoch 99/150\n",
            "20/20 [==============================] - 1s 72ms/step - loss: 0.0192 - accuracy: 0.9942 - val_loss: 0.6481 - val_accuracy: 0.8714\n",
            "Epoch 100/150\n",
            "20/20 [==============================] - 1s 71ms/step - loss: 0.0148 - accuracy: 0.9983 - val_loss: 0.6829 - val_accuracy: 0.8571\n",
            "Epoch 101/150\n",
            "20/20 [==============================] - 1s 71ms/step - loss: 0.0385 - accuracy: 0.9883 - val_loss: 0.9447 - val_accuracy: 0.7714\n",
            "Epoch 102/150\n",
            "20/20 [==============================] - 1s 71ms/step - loss: 0.0622 - accuracy: 0.9650 - val_loss: 0.8873 - val_accuracy: 0.8143\n",
            "Epoch 103/150\n",
            "20/20 [==============================] - 1s 71ms/step - loss: 0.0306 - accuracy: 0.9946 - val_loss: 1.0153 - val_accuracy: 0.7857\n",
            "Epoch 104/150\n",
            "20/20 [==============================] - 1s 71ms/step - loss: 0.0371 - accuracy: 0.9953 - val_loss: 0.8646 - val_accuracy: 0.8429\n",
            "Epoch 105/150\n",
            "20/20 [==============================] - 1s 72ms/step - loss: 0.1221 - accuracy: 0.9558 - val_loss: 0.6111 - val_accuracy: 0.8429\n",
            "Epoch 106/150\n",
            "20/20 [==============================] - 1s 70ms/step - loss: 0.0510 - accuracy: 0.9905 - val_loss: 0.5559 - val_accuracy: 0.8571\n",
            "Epoch 107/150\n",
            "20/20 [==============================] - 1s 71ms/step - loss: 0.0275 - accuracy: 0.9983 - val_loss: 0.5423 - val_accuracy: 0.8857\n",
            "Epoch 108/150\n",
            "20/20 [==============================] - 1s 71ms/step - loss: 0.0290 - accuracy: 0.9912 - val_loss: 0.6582 - val_accuracy: 0.8571\n",
            "Epoch 109/150\n",
            "20/20 [==============================] - 1s 72ms/step - loss: 0.0254 - accuracy: 0.9920 - val_loss: 0.6634 - val_accuracy: 0.8286\n",
            "Epoch 110/150\n",
            "20/20 [==============================] - 1s 71ms/step - loss: 0.0292 - accuracy: 0.9887 - val_loss: 0.5760 - val_accuracy: 0.8857\n",
            "Epoch 111/150\n",
            "20/20 [==============================] - 1s 72ms/step - loss: 0.0458 - accuracy: 0.9864 - val_loss: 1.3160 - val_accuracy: 0.7571\n",
            "Epoch 112/150\n",
            "20/20 [==============================] - 1s 71ms/step - loss: 0.1959 - accuracy: 0.9298 - val_loss: 0.8303 - val_accuracy: 0.7857\n",
            "Epoch 113/150\n",
            "20/20 [==============================] - 1s 71ms/step - loss: 0.2054 - accuracy: 0.9254 - val_loss: 0.7116 - val_accuracy: 0.8286\n",
            "Epoch 114/150\n",
            "20/20 [==============================] - 1s 72ms/step - loss: 0.1885 - accuracy: 0.9250 - val_loss: 0.8462 - val_accuracy: 0.7857\n",
            "Epoch 115/150\n",
            "20/20 [==============================] - 1s 72ms/step - loss: 0.1956 - accuracy: 0.9301 - val_loss: 0.5178 - val_accuracy: 0.8571\n",
            "Epoch 116/150\n",
            "20/20 [==============================] - 1s 72ms/step - loss: 0.1114 - accuracy: 0.9552 - val_loss: 0.5410 - val_accuracy: 0.8286\n",
            "Epoch 117/150\n",
            "20/20 [==============================] - 1s 74ms/step - loss: 0.0827 - accuracy: 0.9638 - val_loss: 0.7334 - val_accuracy: 0.8286\n",
            "Epoch 118/150\n",
            "20/20 [==============================] - 1s 72ms/step - loss: 0.0615 - accuracy: 0.9824 - val_loss: 0.7121 - val_accuracy: 0.8571\n",
            "Epoch 119/150\n",
            "20/20 [==============================] - 1s 71ms/step - loss: 0.0309 - accuracy: 0.9977 - val_loss: 0.7232 - val_accuracy: 0.8571\n",
            "Epoch 120/150\n",
            "20/20 [==============================] - 1s 71ms/step - loss: 0.0186 - accuracy: 0.9984 - val_loss: 0.7012 - val_accuracy: 0.8286\n",
            "Epoch 121/150\n",
            "20/20 [==============================] - 1s 71ms/step - loss: 0.0123 - accuracy: 0.9993 - val_loss: 0.9017 - val_accuracy: 0.8143\n",
            "Epoch 122/150\n",
            "20/20 [==============================] - 1s 73ms/step - loss: 0.0175 - accuracy: 0.9995 - val_loss: 0.7085 - val_accuracy: 0.8571\n",
            "Epoch 123/150\n",
            "20/20 [==============================] - 1s 71ms/step - loss: 0.0157 - accuracy: 1.0000 - val_loss: 0.8498 - val_accuracy: 0.8143\n",
            "Epoch 124/150\n",
            "20/20 [==============================] - 1s 73ms/step - loss: 0.0156 - accuracy: 1.0000 - val_loss: 0.8352 - val_accuracy: 0.8286\n",
            "Epoch 125/150\n",
            "20/20 [==============================] - 1s 71ms/step - loss: 0.0106 - accuracy: 1.0000 - val_loss: 0.7036 - val_accuracy: 0.8714\n",
            "Epoch 126/150\n",
            "20/20 [==============================] - 1s 70ms/step - loss: 0.0112 - accuracy: 1.0000 - val_loss: 0.7901 - val_accuracy: 0.8571\n",
            "Epoch 127/150\n",
            "20/20 [==============================] - 1s 72ms/step - loss: 0.0082 - accuracy: 1.0000 - val_loss: 0.8201 - val_accuracy: 0.8286\n",
            "Epoch 128/150\n",
            "20/20 [==============================] - 1s 72ms/step - loss: 0.0089 - accuracy: 1.0000 - val_loss: 0.7989 - val_accuracy: 0.8429\n",
            "Epoch 129/150\n",
            "20/20 [==============================] - 1s 71ms/step - loss: 0.0064 - accuracy: 1.0000 - val_loss: 0.9726 - val_accuracy: 0.8143\n",
            "Epoch 130/150\n",
            "20/20 [==============================] - 1s 71ms/step - loss: 0.0085 - accuracy: 1.0000 - val_loss: 0.8935 - val_accuracy: 0.8429\n",
            "Epoch 131/150\n",
            "20/20 [==============================] - 1s 73ms/step - loss: 0.0065 - accuracy: 1.0000 - val_loss: 0.8289 - val_accuracy: 0.8571\n",
            "Epoch 132/150\n",
            "20/20 [==============================] - 1s 73ms/step - loss: 0.0071 - accuracy: 1.0000 - val_loss: 0.9555 - val_accuracy: 0.8286\n",
            "Epoch 133/150\n",
            "20/20 [==============================] - 1s 71ms/step - loss: 0.0058 - accuracy: 1.0000 - val_loss: 0.8612 - val_accuracy: 0.8429\n",
            "Epoch 134/150\n",
            "20/20 [==============================] - 1s 72ms/step - loss: 0.0048 - accuracy: 1.0000 - val_loss: 0.8672 - val_accuracy: 0.8571\n",
            "Epoch 135/150\n",
            "20/20 [==============================] - 1s 70ms/step - loss: 0.0045 - accuracy: 1.0000 - val_loss: 0.9206 - val_accuracy: 0.8571\n",
            "Epoch 136/150\n",
            "20/20 [==============================] - 1s 73ms/step - loss: 0.0047 - accuracy: 1.0000 - val_loss: 0.9644 - val_accuracy: 0.8429\n",
            "Epoch 137/150\n",
            "20/20 [==============================] - 1s 72ms/step - loss: 0.0045 - accuracy: 1.0000 - val_loss: 0.9069 - val_accuracy: 0.8571\n",
            "Epoch 138/150\n",
            "20/20 [==============================] - 1s 73ms/step - loss: 0.0039 - accuracy: 1.0000 - val_loss: 1.0289 - val_accuracy: 0.8143\n",
            "Epoch 139/150\n",
            "20/20 [==============================] - 1s 72ms/step - loss: 0.0037 - accuracy: 1.0000 - val_loss: 1.1331 - val_accuracy: 0.8143\n",
            "Epoch 140/150\n",
            "20/20 [==============================] - 1s 71ms/step - loss: 0.0053 - accuracy: 1.0000 - val_loss: 0.9577 - val_accuracy: 0.8286\n",
            "Epoch 141/150\n",
            "20/20 [==============================] - 1s 72ms/step - loss: 0.0036 - accuracy: 1.0000 - val_loss: 1.0612 - val_accuracy: 0.8143\n",
            "Epoch 142/150\n",
            "20/20 [==============================] - 1s 72ms/step - loss: 0.0027 - accuracy: 1.0000 - val_loss: 0.9961 - val_accuracy: 0.8286\n",
            "Epoch 143/150\n",
            "20/20 [==============================] - 1s 72ms/step - loss: 0.0030 - accuracy: 1.0000 - val_loss: 1.0168 - val_accuracy: 0.8429\n",
            "Epoch 144/150\n",
            "20/20 [==============================] - 1s 72ms/step - loss: 0.0032 - accuracy: 1.0000 - val_loss: 1.1607 - val_accuracy: 0.8143\n",
            "Epoch 145/150\n",
            "20/20 [==============================] - 1s 72ms/step - loss: 0.0033 - accuracy: 1.0000 - val_loss: 1.0615 - val_accuracy: 0.8286\n",
            "Epoch 146/150\n",
            "20/20 [==============================] - 1s 73ms/step - loss: 0.0021 - accuracy: 1.0000 - val_loss: 1.0318 - val_accuracy: 0.8286\n",
            "Epoch 147/150\n",
            "20/20 [==============================] - 1s 72ms/step - loss: 0.0020 - accuracy: 1.0000 - val_loss: 1.0609 - val_accuracy: 0.8286\n",
            "Epoch 148/150\n",
            "20/20 [==============================] - 1s 72ms/step - loss: 0.0024 - accuracy: 1.0000 - val_loss: 0.9925 - val_accuracy: 0.8429\n",
            "Epoch 149/150\n",
            "20/20 [==============================] - 1s 73ms/step - loss: 0.0022 - accuracy: 1.0000 - val_loss: 0.9740 - val_accuracy: 0.8571\n",
            "Epoch 150/150\n",
            "20/20 [==============================] - 1s 71ms/step - loss: 0.0025 - accuracy: 1.0000 - val_loss: 1.0300 - val_accuracy: 0.8286\n",
            "1/1 [==============================] - 0s 24ms/step - loss: 3.6876 - accuracy: 0.6250\n",
            "loss: 3.687617063522339\n",
            "accuracy: 0.625\n"
          ],
          "name": "stdout"
        }
      ]
    },
    {
      "cell_type": "markdown",
      "metadata": {
        "id": "fHywRtBFXPS1"
      },
      "source": [
        "Predictions"
      ]
    },
    {
      "cell_type": "code",
      "metadata": {
        "id": "Kpt_SVyOCub2"
      },
      "source": [
        "pred = model.predict(X_test)"
      ],
      "execution_count": 15,
      "outputs": []
    },
    {
      "cell_type": "code",
      "metadata": {
        "id": "2l7QO1jyC0nC"
      },
      "source": [
        "labels = []\n",
        "for i in range(len(pred)):\n",
        "  if pred[i][1]>=pred[i][0]:\n",
        "    labels.append(1)\n",
        "  else:\n",
        "    labels.append(0)"
      ],
      "execution_count": 16,
      "outputs": []
    },
    {
      "cell_type": "code",
      "metadata": {
        "id": "dRcgA1EPC8eS",
        "colab": {
          "base_uri": "https://localhost:8080/"
        },
        "outputId": "f4fcbfc8-94e8-4c06-de4e-8635eb079c17"
      },
      "source": [
        "y_test[5]"
      ],
      "execution_count": 40,
      "outputs": [
        {
          "output_type": "execute_result",
          "data": {
            "text/plain": [
              "array([0., 1.], dtype=float32)"
            ]
          },
          "metadata": {
            "tags": []
          },
          "execution_count": 40
        }
      ]
    },
    {
      "cell_type": "code",
      "metadata": {
        "colab": {
          "base_uri": "https://localhost:8080/"
        },
        "id": "SSxuAUyXbJhP",
        "outputId": "4df7c1d8-d015-4215-d632-303a75fa7d97"
      },
      "source": [
        "pred[5]"
      ],
      "execution_count": 39,
      "outputs": [
        {
          "output_type": "execute_result",
          "data": {
            "text/plain": [
              "array([1.3043058e-07, 9.9999988e-01], dtype=float32)"
            ]
          },
          "metadata": {
            "tags": []
          },
          "execution_count": 39
        }
      ]
    },
    {
      "cell_type": "code",
      "metadata": {
        "id": "u9j3KxYRFWAv",
        "colab": {
          "base_uri": "https://localhost:8080/"
        },
        "outputId": "7bbe6f75-a656-43b1-dbcf-198f8e15fce8"
      },
      "source": [
        "labels[5]"
      ],
      "execution_count": 38,
      "outputs": [
        {
          "output_type": "execute_result",
          "data": {
            "text/plain": [
              "1"
            ]
          },
          "metadata": {
            "tags": []
          },
          "execution_count": 38
        }
      ]
    },
    {
      "cell_type": "code",
      "metadata": {
        "id": "D9x-78rXEBcd",
        "colab": {
          "base_uri": "https://localhost:8080/",
          "height": 285
        },
        "outputId": "fd655b49-536d-4e39-bc33-7122ba942f20"
      },
      "source": [
        "plt.imshow(X_test[5].reshape(size, size), interpolation='nearest')"
      ],
      "execution_count": 37,
      "outputs": [
        {
          "output_type": "execute_result",
          "data": {
            "text/plain": [
              "<matplotlib.image.AxesImage at 0x7f95f42b0990>"
            ]
          },
          "metadata": {
            "tags": []
          },
          "execution_count": 37
        },
        {
          "output_type": "display_data",
          "data": {
            "image/png": "[encoded data removed]",
            "text/plain": [
              "<Figure size 432x288 with 1 Axes>"
            ]
          },
          "metadata": {
            "tags": [],
            "needs_background": "light"
          }
        }
      ]
    },
    {
      "cell_type": "markdown",
      "metadata": {
        "id": "lh7-yh4XXRDW"
      },
      "source": [
        "Saving the Model"
      ]
    },
    {
      "cell_type": "code",
      "metadata": {
        "id": "1MmE4QtABcYx"
      },
      "source": [
        "model.save('/content/drive/MyDrive/Pothole/pothole.model')\n",
        "\n",
        "converter = tf.lite.TFLiteConverter.from_saved_model('/content/drive/MyDrive/Pothole/pothole.model')\n",
        "tflite_model = converter.convert()"
      ],
      "execution_count": null,
      "outputs": []
    }
  ]
}